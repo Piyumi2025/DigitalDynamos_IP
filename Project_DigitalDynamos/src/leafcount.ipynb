{
 "cells": [
  {
   "cell_type": "code",
   "execution_count": 1,
   "id": "59f73bcc",
   "metadata": {},
   "outputs": [
    {
     "name": "stdout",
     "output_type": "stream",
     "text": [
      "Number of leaves: 44\n"
     ]
    }
   ],
   "source": [
    "import cv2\n",
    "import numpy as np\n",
    "\n",
    "# Load the image\n",
    "image = cv2.imread('day5_e_side.jpg')\n",
    "\n",
    "# Convert to grayscale\n",
    "gray = cv2.cvtColor(image, cv2.COLOR_BGR2GRAY)\n",
    "\n",
    "# Apply Gaussian blur\n",
    "blurred = cv2.GaussianBlur(gray, (15, 15), 0)\n",
    "\n",
    "# Apply binary threshold\n",
    "_, thresh = cv2.threshold(blurred, 60, 255, cv2.THRESH_BINARY_INV)\n",
    "\n",
    "# Find contours\n",
    "contours, _ = cv2.findContours(thresh, cv2.RETR_EXTERNAL, cv2.CHAIN_APPROX_SIMPLE)\n",
    "\n",
    "# Draw contours and count leaves\n",
    "leaf_count = 0\n",
    "for contour in contours:\n",
    "    area = cv2.contourArea(contour)\n",
    "    if area > 500:  # Filter small contours\n",
    "        leaf_count += 1\n",
    "        cv2.drawContours(image, [contour], -1, (0, 255, 0), 2)\n",
    "\n",
    "print(\"Number of leaves:\", leaf_count)\n",
    "cv2.imshow('Leaves', image)\n",
    "cv2.waitKey(0)\n",
    "cv2.destroyAllWindows()\n"
   ]
  },
  {
   "cell_type": "code",
   "execution_count": null,
   "id": "7941264a",
   "metadata": {},
   "outputs": [],
   "source": []
  }
 ],
 "metadata": {
  "kernelspec": {
   "display_name": "Python 3 (ipykernel)",
   "language": "python",
   "name": "python3"
  },
  "language_info": {
   "codemirror_mode": {
    "name": "ipython",
    "version": 3
   },
   "file_extension": ".py",
   "mimetype": "text/x-python",
   "name": "python",
   "nbconvert_exporter": "python",
   "pygments_lexer": "ipython3",
   "version": "3.7.1"
  }
 },
 "nbformat": 4,
 "nbformat_minor": 5
}
