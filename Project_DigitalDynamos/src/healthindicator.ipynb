{
 "cells": [
  {
   "cell_type": "code",
   "execution_count": 3,
   "id": "dc731e90",
   "metadata": {},
   "outputs": [],
   "source": [
    "import cv2\n",
    "import numpy as np\n",
    "\n",
    "# Load the image\n",
    "image = cv2.imread('day5_e_side.jpg')\n",
    "\n",
    "# Convert to HSV color space\n",
    "hsv = cv2.cvtColor(image, cv2.COLOR_BGR2HSV)\n",
    "\n",
    "# Define color range for healthy leaves (green)\n",
    "lower_healthy = np.array([35, 40, 40])\n",
    "upper_healthy = np.array([85, 255, 255])\n",
    "\n",
    "# Define color range for diseased leaves (brown/yellow)\n",
    "lower_diseased = np.array([10, 100, 100])\n",
    "upper_diseased = np.array([30, 255, 255])\n",
    "\n",
    "# Create masks for healthy and diseased regions\n",
    "mask_healthy = cv2.inRange(hsv, lower_healthy, upper_healthy)\n",
    "mask_diseased = cv2.inRange(hsv, lower_diseased, upper_diseased)\n",
    "\n",
    "# Display the results\n",
    "cv2.imshow('Healthy Regions', mask_healthy)\n",
    "cv2.imshow('Diseased Regions', mask_diseased)\n",
    "cv2.waitKey(0)\n",
    "cv2.destroyAllWindows()\n"
   ]
  },
  {
   "cell_type": "code",
   "execution_count": null,
   "id": "599dc055",
   "metadata": {},
   "outputs": [],
   "source": []
  }
 ],
 "metadata": {
  "kernelspec": {
   "display_name": "Python 3 (ipykernel)",
   "language": "python",
   "name": "python3"
  },
  "language_info": {
   "codemirror_mode": {
    "name": "ipython",
    "version": 3
   },
   "file_extension": ".py",
   "mimetype": "text/x-python",
   "name": "python",
   "nbconvert_exporter": "python",
   "pygments_lexer": "ipython3",
   "version": "3.7.1"
  }
 },
 "nbformat": 4,
 "nbformat_minor": 5
}
